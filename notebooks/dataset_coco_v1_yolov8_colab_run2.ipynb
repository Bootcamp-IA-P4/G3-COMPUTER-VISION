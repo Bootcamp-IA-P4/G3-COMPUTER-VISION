{
 "cells": [
  {
   "cell_type": "markdown",
   "metadata": {},
   "source": [
    "# Entrenamiento de YOLOv8 en Google Colab (Dataset Pre-descomprimido)\n",
    "\n",
    "Este notebook está adaptado para entrenar un modelo YOLOv8, asumiendo que el dataset ya está descomprimido en Google Drive. Guarda los resultados en Google Drive y tiene capacidad de reanudar el entrenamiento si la sesión se interrumpe."
   ]
  },
  {
   "cell_type": "markdown",
   "metadata": {},
   "source": [
    "### 1. Montar Google Drive\n",
    "\n",
    "Conecta el notebook a tu Google Drive. Aquí es donde leeremos el dataset y guardaremos los resultados y checkpoints."
   ]
  },
  {
   "cell_type": "code",
   "execution_count": null,
   "metadata": {
    "colab": {
     "base_uri": "https://localhost:8080/"
    },
    "id": "2z99iL3-yBwC"
   },
   "outputs": [],
   "source": [
    "from google.colab import drive\n",
    "drive.mount('/content/drive')"
   ]
  },
  {
   "cell_type": "markdown",
   "metadata": {},
   "source": [
    "### 2. Instalar Librerías\n",
    "\n",
    "Instalamos `ultralytics` para YOLOv8."
   ]
  },
  {
   "cell_type": "code",
   "execution_count": null,
   "metadata": {
    "colab": {
     "base_uri": "https://localhost:8080/"
    },
    "id": "eQv5xS2ZyBwE",
    "outputId": "9b12d59d-6450-42d4-f6ee-efd5806c9b8d"
   },
   "outputs": [],
   "source": [
    "!pip install ultralytics"
   ]
  },
  {
   "cell_type": "markdown",
   "metadata": {},
   "source": [
    "### 3. Configuración del Entrenamiento\n",
    "\n",
    "**ACCIÓN REQUERIDA:** Ajusta las rutas y parámetros en la siguiente celda según tu configuración."
   ]
  },
  {
   "cell_type": "code",
   "execution_count": null,
   "metadata": {
    "id": "1de8e303-8acf-4565-e7a4-9e2964dfd4ae"
   },
   "outputs": [],
   "source": [
    "import os\n",
    "from ultralytics import YOLO\n",
    "\n",
    "# --- PARÁMETROS DE CONFIGURACIÓN ---\n",
    "\n",
    "# Asegurarse de que CUDA_VISIBLE_DEVICES esté configurado para usar la primera GPU\n",
    "os.environ['CUDA_VISIBLE_DEVICES'] = '0'\n",
    "\n",
    "# Ruta base en tu Google Drive donde tienes el proyecto\n",
    "# DEBES AJUSTAR ESTA RUTA a donde hayas guardado tu dataset\n",
    "DRIVE_PROJECT_PATH = '/content/drive/MyDrive/Colab Notebooks/mod03-projects/project-xii-computer-vision' # Asegúrate de que esta ruta sea correcta\n",
    "\n",
    "# --- Configuración del Dataset (ya descomprimido) ---\n",
    "# Ruta a la carpeta del dataset ya descomprimido en Drive\n",
    "DATASET_BASE_PATH = os.path.join(DRIVE_PROJECT_PATH, 'dataset_v1_yolov8_reduced')\n",
    "\n",
    "# Ruta al archivo YAML del dataset\n",
    "DATASET_YAML_PATH = os.path.join(DATASET_BASE_PATH, 'data.yaml')\n",
    "\n",
    "# Modelo, epochs y nombre del run\n",
    "MODEL_NAME = os.path.join(DRIVE_PROJECT_PATH, 'models', 'yolov8m.pt') # Ruta explícita al modelo base en Drive\n",
    "EPOCHS = 80\n",
    "RUN_NAME = 'yolov8m_colab_80_epochs_run_2' # Nombre del run actualizado\n",
    "\n",
    "# Parámetros de rendimiento para Colab\n",
    "BATCH_SIZE = 8\n",
    "IMG_SIZE = 640\n",
    "WORKERS = 4\n",
    "patience = 20 # Early stopping: detiene el entrenamiento si no hay mejora en 20 épocas\n",
    "cache = True # Cachea las imágenes en RAM para acelerar la carga (si la RAM lo permite)\n",
    "optimizer = 'AdamW' # Optimizador AdamW para una convergencia más estable\n",
    "cos_lr = True # Usa decaimiento de learning rate con coseno annealing\n",
    "\n",
    "# --- FIN DE LA CONFIGURACIÓN ---\n",
    "\n",
    "# Asegurarse de que la carpeta de resultados exista en Drive\n",
    "os.makedirs(os.path.join(DRIVE_PROJECT_PATH, 'training_results'), exist_ok=True)\n",
    "\n",
    "# --- Verificación del Dataset y Modelo Base ---\n",
    "if not os.path.exists(DATASET_YAML_PATH):\n",
    "    print(f\"ERROR: El archivo data.yaml no se encontró en {DATASET_YAML_PATH}. Asegúrate de que el dataset esté descomprimido en la ruta correcta.\")\n",
    "    raise FileNotFoundError(f\"Dataset YAML not found at {DATASET_YAML_PATH}\") # Detener la ejecución si el dataset no se encuentra\n",
    "\n",
    "if not os.path.exists(MODEL_NAME):\n",
    "    print(f\"ADVERTENCIA: El modelo base {MODEL_NAME} no se encontró en la ruta especificada. Ultralytics lo descargará automáticamente.\")\n",
    "    MODEL_NAME = 'yolov8m.pt' # Volver al nombre corto para que Ultralytics lo descargue\n",
    "\n",
    "print(f\"Dataset listo en: {DATASET_BASE_PATH}\")"
   ]
  },
  {
   "cell_type": "markdown",
   "metadata": {},
   "source": [
    "### 4. Entrenar el Modelo\n",
    "\n",
    "Esta celda inicia o reanuda el entrenamiento. Gracias a `resume=True`, si el script se detiene, puedes volver a ejecutar esta celda y continuará donde lo dejó."
   ]
  },
  {
   "cell_type": "code",
   "execution_count": null,
   "metadata": {
    "colab": {
     "base_uri": "https://localhost:8080/"
    },
    "id": "WJ1MX6CfyBwH",
    "outputId": "5542cdb4-5b41-47c0-e19c-cd35214422ce"
   },
   "outputs": [],
   "source": [
    "from ultralytics import YOLO\n",
    "\n",
    "# Cargar el modelo base (YOLO descargará 'yolov8m.pt' si no existe)\n",
    "model = YOLO(MODEL_NAME)\n",
    "\n",
    "# Iniciar el entrenamiento\n",
    "results = model.train(\n",
    "    # --- Rutas y Datos ---\n",
    "    data=DATASET_YAML_PATH,\n",
    "    project=os.path.join(DRIVE_PROJECT_PATH, 'training_results'), # Guarda los resultados en Drive\n",
    "    name=RUN_NAME,\n",
    "\n",
    "    # --- Parámetros de Entrenamiento ---\n",
    "    epochs=EPOCHS,\n",
    "    resume=True,  # <-- ¡LA CLAVE! Reanuda el entrenamiento si encuentra un checkpoint\n",
    "\n",
    "    # --- Parámetros de Rendimiento y Optimización ---\n",
    "    batch=BATCH_SIZE,\n",
    "    imgsz=IMG_SIZE,\n",
    "    workers=WORKERS,\n",
    "    patience=patience,\n",
    "    cache=cache,\n",
    "    optimizer=optimizer,\n",
    "    cos_lr=cos_lr,\n",
    "\n",
    "    # --- Opcionales ---\n",
    "    save_json=True,\n",
    "    save_hybrid=True,\n",
    "    plots=True,\n",
    "    device='0' # Forzar el uso de la GPU 0\n",
    ")\n",
    "\n",
    "print('--- ENTRENAMIENTO FINALIZADO ---')\n",
    "print(f'Resultados guardados en: {results.save_dir}')"
   ]
  },
  {
   "cell_type": "markdown",
   "metadata": {},
   "source": [
    "### 5. Evaluar el Modelo Final\n",
    "\n",
    "Una vez finalizado el entrenamiento completo, puedes ejecutar esta celda para ver las métricas de validación del mejor modelo."
   ]
  },
  {
   "cell_type": "code",
   "execution_count": null,
   "metadata": {
    "colab": {
     "base_uri": "https://localhost:8080/"
    },
    "id": "2IVFK_qfyBwI",
    "outputId": "e28055a2-d2d9-4bb2-fa98-36ca1d01a470"
   },
   "outputs": [],
   "source": [
    "# Cargar el mejor modelo guardado durante el entrenamiento\n",
    "best_model_path = os.path.join(DRIVE_PROJECT_PATH, 'training_results', RUN_NAME, 'weights', 'best.pt')\n",
    "model = YOLO(MODEL_NAME)\n",
    "\n",
    "# Evaluar en el conjunto de validación\n",
    "metrics = model.val()\n",
    "\n",
    "print('--- MÉTRICAS DE VALIDACIÓN ---')\n",
    "print(f'mAP50-95: {metrics.box.map:.4f}')\n",
    "print(f'   mAP50: {metrics.box.map50:.4f}')\n",
    "print(f'   mAP75: {metrics.box.map75:.4f}')"
   ]
  }
 ],
 "metadata": {
  "accelerator": "GPU",
  "colab": {
   "gpuType": "T4",
   "provenance": []
  },
  "kernelspec": {
   "display_name": "Python 3",
   "name": "python3"
  },
  "language_info": {
   "name": "python",
   "version": "3.10.12"
  }
 },
 "nbformat": 4,
 "nbformat_minor": 0
}