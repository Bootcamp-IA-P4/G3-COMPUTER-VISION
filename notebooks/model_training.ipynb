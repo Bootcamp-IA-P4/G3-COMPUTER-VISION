{
 "cells": [
  {
   "cell_type": "markdown",
   "id": "e08f5e7f",
   "metadata": {},
   "source": [
    "# Model Training Notebook\n",
    "\n",
    "This notebook is for training a custom object detection model using YOLOv8 and Ultralytics."
   ]
  },
  {
   "cell_type": "code",
   "execution_count": null,
   "id": "bfe12ce3",
   "metadata": {},
   "outputs": [],
   "source": [
    "# Install necessary libraries\n",
    "!pip install ultralytics roboflow wandb"
   ]
  },
  {
   "cell_type": "code",
   "execution_count": null,
   "id": "e14f6a45",
   "metadata": {},
   "outputs": [],
   "source": [
    "# Import libraries\n",
    "import os\n",
    "from ultralytics import YOLO\n",
    "from roboflow import Roboflow\n",
    "import wandb # Added for Weights & Biases\n",
    "from google.colab import drive # Added for Google Drive integration\n",
    "\n",
    "# Mount Google Drive\n",
    "drive.mount('/content/drive')"
   ]
  },
  {
   "cell_type": "markdown",
   "id": "9997e01e",
   "metadata": {},
   "source": [
    "# --- Configuration ---"
   ]
  },
  {
   "cell_type": "code",
   "execution_count": null,
   "id": "6615bd4a",
   "metadata": {},
   "outputs": [],
   "source": [
    "# Replace with your Roboflow API key and project details\n",
    "# ROBOFLOW_API_KEY = \"YOUR_ROBOFLOW_API_KEY\" # No longer needed as API key is hardcoded below\n",
    "# ROBOFLOW_WORKSPACE = \"YOUR_ROBOFLOW_WORKSPACE\"\n",
    "# ROBOFLOW_PROJECT = \"YOUR_ROBOFLOW_PROJECT\"\n",
    "# ROBOFLOW_VERSION = \"YOUR_ROBOFLOW_VERSION\" # e.g., \"1\" or \"1.0\"\n",
    "\n",
    "# Model configuration\n",
    "MODEL_NAME = \"yolov8m.pt\" # or yolov8s.pt, yolov8m.pt, etc.\n",
    "EPOCHS = 50\n",
    "IMG_SIZE = 640\n",
    "BATCH_SIZE = 16\n",
    "PATIENCE = 10 # Added for early stopping\n",
    "\n",
    "# Google Drive paths for saving results\n",
    "# DRIVE_BASE_PATH = \"/content/drive/MyDrive/Colab Notebooks/mod03-projects/project-xii-computer-vision/\"\n",
    "    \n",
    "DRIVE_BASE_PATH = \"/content/drive/MyDrive/Colab Notebooks/mod03-projects/project-xii-computer-vision\" # Sin barra final\n",
    "MODEL_FILE_NAME = \"best_model_side_project.pt\"  \n",
    "full_model_path = os.path.join(DRIVE_BASE_PATH, MODEL_FILE_NAME)\n",
    "DATASET_FINAL = \"Dataset_final\" # Final curated dataset\n",
    "full_dataset_path = os.path.join(DRIVE_BASE_PATH, DATASET_FINAL)\n",
    "\n",
    "# Dataset-specific output names (adjust as needed for your two datasets)\n",
    "DATASET_1_OUTPUT = \"dataset_1st_cleaning\" # Dataset with cleaning Jorge and my second cleaning\n",
    "DATASET_2_OUTPUT = \"dataset_2nd_cleaning\" # Dataset with two Jorge cleanings\n",
    "DATASET_3_OUTPUT = \"dataset_final_output\" # Final curated dataset\n",
    "\n",
    "\n",
    "# Create output directories if they don't exist\n",
    "os.makedirs(os.path.join(DRIVE_BASE_PATH, DATASET_1_OUTPUT), exist_ok=True)\n",
    "os.makedirs(os.path.join(DRIVE_BASE_PATH, DATASET_2_OUTPUT), exist_ok=True)\n",
    "os.makedirs(os.path.join(DRIVE_BASE_PATH, DATASET_3_OUTPUT), exist_ok=True)"
   ]
  },
  {
   "cell_type": "markdown",
   "id": "4c4b8777",
   "metadata": {},
   "source": [
    "# --- Download Dataset from Roboflow ---"
   ]
  },
  {
   "cell_type": "code",
   "execution_count": null,
   "id": "fda1b72d",
   "metadata": {},
   "outputs": [],
   "source": [
    "# from roboflow import Roboflow\n",
    "# rf = Roboflow(api_key=\"418MLJVSz2BhvkdjCv19\")\n",
    "# project = rf.workspace(\"juan-d-computer-vision-projects\").project(\"brand-logo-detector-team-ytebc\")\n",
    "# version = project.version(1)\n",
    "# dataset = version.download(\"yolov8\")"
   ]
  },
  {
   "cell_type": "markdown",
   "id": "13a8bbed",
   "metadata": {},
   "source": [
    "# The dataset will be downloaded to a directory named after your project version\n",
    "# e.g., \"your_project_name-your_version_number\""
   ]
  },
  {
   "cell_type": "markdown",
   "id": "ef336e1c",
   "metadata": {},
   "source": [
    "# --- Initialize YOLO Model ---"
   ]
  },
  {
   "cell_type": "code",
   "execution_count": null,
   "id": "b69781c1",
   "metadata": {},
   "outputs": [],
   "source": [
    "# Load a pre-trained YOLOv8 model\n",
    "# model = YOLO(MODEL_NAME)\n",
    "# Load the model from the specified Drive path\n",
    "model = YOLO(full_model_path)"
   ]
  },
  {
   "cell_type": "markdown",
   "id": "a918fa05",
   "metadata": {},
   "source": [
    "# --- Weights & Biases Integration ---"
   ]
  },
  {
   "cell_type": "code",
   "execution_count": null,
   "id": "4ae1a1a8",
   "metadata": {},
   "outputs": [],
   "source": [
    "# Log in to Weights & Biases (you'll be prompted to enter your API key if not already logged in)\n",
    "wandb.login()\n",
    "\n",
    "# Initialize a W&B run\n",
    "wandb.init(\n",
    "    project=\"brand-logo-detection\", # Replace with your W&B project name\n",
    "    config={\n",
    "        \"epochs\": EPOCHS,\n",
    "        \"imgsz\": IMG_SIZE,\n",
    "        \"batch\": BATCH_SIZE,\n",
    "        \"model_name\": MODEL_NAME,\n",
    "        \"patience\": PATIENCE\n",
    "    }\n",
    ")"
   ]
  },
  {
   "cell_type": "markdown",
   "id": "3533a694",
   "metadata": {},
   "source": [
    "# --- Train the Model ---"
   ]
  },
  {
   "cell_type": "code",
   "execution_count": null,
   "id": "962f2f4c",
   "metadata": {},
   "outputs": [],
   "source": [
    "# The data argument should point to the dataset.yaml file downloaded by Roboflow\n",
    "# This file is usually located in the downloaded dataset directory.\n",
    "# Example: os.path.join(dataset.location, \"data.yaml\")\n",
    "results = model.train(\n",
    "    data=os.path.join(full_dataset_path, \"data.yaml\"),\n",
    "    epochs=EPOCHS,\n",
    "    imgsz=IMG_SIZE,\n",
    "    batch=BATCH_SIZE,\n",
    "    patience=PATIENCE, # Early stopping: stop training if no improvement for PATIENCE epochs\n",
    "    # Learning rate scheduling is handled automatically by Ultralytics' optimizer\n",
    "    # You can customize optimizer and LR scheduler in train() arguments if needed\n",
    "    # e.g., optimizer='Adam', lr0=0.01, lrf=0.001\n",
    "    project=os.path.join(DRIVE_BASE_PATH, DATASET_3_OUTPUT), # Base directory for saving runs\n",
    "    name='train' # Specific folder name for this run (e.g., 'train', 'train2', etc.)\n",
    ")"
   ]
  },
  {
   "cell_type": "markdown",
   "id": "e06ddea4",
   "metadata": {},
   "source": [
    "# --- Evaluate the Model ---"
   ]
  },
  {
   "cell_type": "code",
   "execution_count": null,
   "id": "ef6b3527",
   "metadata": {},
   "outputs": [],
   "source": [
    "metrics = model.val() # Evaluate the model on the validation set"
   ]
  },
  {
   "cell_type": "code",
   "execution_count": null,
   "id": "eb70783b",
   "metadata": {},
   "outputs": [],
   "source": [
    "print(\"\\n--- Evaluation Metrics ---\")\n",
    "print(f\"mAP50-95: {metrics.box.map}\")\n",
    "print(f\"mAP50: {metrics.box.map50}\")\n",
    "print(f\"mAP75: {metrics.box.map75}\")\n",
    "# You can access other metrics like:\n",
    "# metrics.box.maps # list of mAPs for each class\n",
    "# metrics.speed # inference speed metrics"
   ]
  },
  {
   "cell_type": "markdown",
   "id": "6096b481",
   "metadata": {},
   "source": [
    "# --- Save the Model ---"
   ]
  },
  {
   "cell_type": "code",
   "execution_count": null,
   "id": "ef72b159",
   "metadata": {},
   "outputs": [],
   "source": [
    "# Ultralytics automatically saves the best model as 'best.pt' and the last model as 'last.pt'\n",
    "# in 'runs/detect/trainX/weights/' directory (where X is the run number).\n",
    "# To load a saved model:\n",
    "# loaded_model = YOLO('runs/detect/trainX/weights/best.pt')\n",
    "# You can also export it to other formats if needed\n",
    "# model.export(format=\"onnx\") # export the model to ONNX format\n",
    "\n",
    "print(\"Model training and evaluation complete!\")"
   ]
  },
  {
   "cell_type": "markdown",
   "id": "d306ecfd",
   "metadata": {},
   "source": [
    "# --- Finish Weights & Biases Run ---"
   ]
  },
  {
   "cell_type": "code",
   "execution_count": null,
   "id": "d22d8759",
   "metadata": {},
   "outputs": [],
   "source": [
    "wandb.finish()"
   ]
  }
 ],
 "metadata": {
  "kernelspec": {
   "display_name": "Python 3 (ipykernel)",
   "language": "python",
   "name": "python3"
  },
  "language_info": {
   "codemirror_mode": {
    "name": "ipython",
    "version": 3
   },
   "file_extension": ".py",
   "mimetype": "text/x-python",
   "name": "python",
   "nbconvert_exporter": "python",
   "pygments_lexer": "ipython3",
   "version": "3.11.5"
  }
 },
 "nbformat": 4,
 "nbformat_minor": 5
}
