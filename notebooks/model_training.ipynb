# -*- coding: utf-8 -*-
"""
# Model Training Notebook

This notebook is for training a custom object detection model using YOLOv8 and Ultralytics.
"""

# Install necessary libraries
!pip install ultralytics roboflow

# Import libraries
import os
from ultralytics import YOLO
from roboflow import Roboflow

# --- Configuration ---
# Replace with your Roboflow API key and project details
ROBOFLOW_API_KEY = "YOUR_ROBOFLOW_API_KEY"
ROBOFLOW_WORKSPACE = "YOUR_ROBOFLOW_WORKSPACE"
ROBOFLOW_PROJECT = "YOUR_ROBOFLOW_PROJECT"
ROBOFLOW_VERSION = "YOUR_ROBOFLOW_VERSION" # e.g., "1" or "1.0"

# Model configuration
MODEL_NAME = "yolov8n.pt" # or yolov8s.pt, yolov8m.pt, etc.
EPOCHS = 50
IMG_SIZE = 640
BATCH_SIZE = 16

# --- Download Dataset from Roboflow ---
# Ensure you have your Roboflow API key set up
rf = Roboflow(api_key=ROBOFLOW_API_KEY)
project = rf.workspace(ROBOFLOW_WORKSPACE).project(ROBOFLOW_PROJECT)
dataset = project.version(ROBOFLOW_VERSION).download("yolov8")

# The dataset will be downloaded to a directory named after your project version
# e.g., "your_project_name-your_version_number"

# --- Initialize YOLO Model ---
# Load a pre-trained YOLOv8 model
model = YOLO(MODEL_NAME)

# --- Train the Model ---
# The data argument should point to the dataset.yaml file downloaded by Roboflow
# This file is usually located in the downloaded dataset directory.
# Example: os.path.join(dataset.location, "data.yaml")
results = model.train(
    data=os.path.join(dataset.location, "data.yaml"),
    epochs=EPOCHS,
    imgsz=IMG_SIZE,
    batch=BATCH_SIZE
)

# --- Evaluate the Model ---
metrics = model.val() # Evaluate the model on the validation set

# --- Save the Model ---
# Ultralytics automatically saves the best model as 'best.pt' in 'runs/detect/trainX/weights/'
# You can also export it to other formats if needed
# model.export(format="onnx") # export the model to ONNX format

print("Model training and evaluation complete!")
