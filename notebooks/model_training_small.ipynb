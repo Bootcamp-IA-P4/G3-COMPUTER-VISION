{
 "cells": [
  {
   "cell_type": "markdown",
   "metadata": {},
   "source": [
    "# Entrenamiento de YOLOv8-Small en Google Colab\n",
    "\n",
    "Este notebook está adaptado para entrenar el modelo **YOLOv8s (small)**, guardando los resultados en Google Drive y con capacidad de reanudar el entrenamiento si la sesión se interrumpe."
   ]
  },
  {
   "cell_type": "markdown",
   "metadata": {},
   "source": [
    "### 1. Montar Google Drive\n",
    "\n",
    "Conecta el notebook a tu Google Drive. Aquí es donde leeremos el dataset y guardaremos los resultados y checkpoints."
   ]
  },
  {
   "cell_type": "code",
   "execution_count": null,
   "metadata": {},
   "outputs": [],
   "source": [
    "from google.colab import drive\n",
    "drive.mount('/content/drive')"
   ]
  },
  {
   "cell_type": "markdown",
   "metadata": {},
   "source": [
    "### 2. Instalar Librerías\n",
    "\n",
    "Instalamos `ultralytics` para YOLOv8."
   ]
  },
  {
   "cell_type": "code",
   "execution_count": null,
   "metadata": {},
   "outputs": [],
   "source": [
    "!pip install ultralytics"
   ]
  },
  {
   "cell_type": "markdown",
   "metadata": {},
   "source": [
    "### 3. Configuración del Entrenamiento\n",
    "\n",
    "**ACCIÓN REQUERIDA:** Ajusta las rutas y parámetros en la siguiente celda según tu configuración."
   ]
  },
  {
   "cell_type": "code",
   "execution_count": null,
   "metadata": {},
   "outputs": [],
   "source": [
    "import os\n",
    "from ultralytics import YOLO\n",
    "\n",
    "# --- PARÁMETROS DE CONFIGURACIÓN ---",
    "\n",
    "# Ruta base en tu Google Drive donde tienes el proyecto",
    "# DEBES AJUSTAR ESTA RUTA a donde hayas guardado tu dataset",
    "DRIVE_PROJECT_PATH = '/content/drive/MyDrive/Colab Notebooks/mod03-projects/project-xii-computer-vision' # Asegúrate de que esta ruta sea correcta",
    "\n",
    "# --- Configuración del Dataset Comprimido ---",
    "# Nombre del archivo .tar.gz del dataset reducido (debe estar en la misma carpeta que DRIVE_PROJECT_PATH)",
    "COMPRESSED_DATASET_NAME = 'dataset_v1_yolov8m_reduced.tar.gz'",
    "COMPRESSED_DATASET_PATH = os.path.join(DRIVE_PROJECT_PATH, COMPRESSED_DATASET_NAME)",
    "\n",
    "# Directorio temporal en Colab donde se descomprimirá el dataset",
    "DECOMPRESSION_TARGET_DIR = '/content/datasets_extracted'",
    "# Ruta a la carpeta del dataset una vez descomprimido",
    "DATASET_EXTRACTED_PATH = os.path.join(DECOMPRESSION_TARGET_DIR, 'dataset_v1_yolov8m_reduced')",
    "\n",
    "# Ruta al archivo YAML del dataset (APUNTANDO A LA VERSIÓN DESCOMPRIMIDA)",
    "DATASET_YAML_PATH = os.path.join(DATASET_EXTRACTED_PATH, 'data.yaml')",
    "\n",
    "# Modelo, epochs y nombre del run",
    "MODEL_NAME = 'yolov8s.pt' # <--- MODELO SMALL",
    "EPOCHS = 80",
    "RUN_NAME = 'yolov8s_colab_80_epochs' # <--- NOMBRE DEL RUN ACTUALIZADO",
    "\n",
    "# Parámetros de rendimiento para Colab",
    "BATCH_SIZE = 8",
    "IMG_SIZE = 640",
    "WORKERS = 2",
    "\n",
    "# --- FIN DE LA CONFIGURACIÓN ---",
    "\n",
    "# Asegurarse de que la carpeta de resultados exista en Drive",
    "os.makedirs(os.path.join(DRIVE_PROJECT_PATH, 'training_results'), exist_ok=True)",
    "\n",
    "# --- Descompresión del Dataset ---",
    "print(f"Descomprimiendo {COMPRESSED_DATASET_NAME} a {DECOMPRESSION_TARGET_DIR}...")",
    "!mkdir -p {DECOMPRESSION_TARGET_DIR}",
    "!tar -xzf {COMPRESSED_DATASET_PATH} -C {DECOMPRESSION_TARGET_DIR}",
    "print(\"Descompresión completada.\")"
   ]
  },
  {
   "cell_type": "markdown",
   "metadata": {},
   "source": [
    "### 4. Entrenar el Modelo\n",
    "\n",
    "Esta celda inicia o reanuda el entrenamiento. Gracias a `resume=True`, si el script se detiene, puedes volver a ejecutar esta celda y continuará donde lo dejó."
   ]
  },
  {
   "cell_type": "code",
   "execution_count": null,
   "metadata": {},
   "outputs": [],
   "source": [
    "# Cargar el modelo base (YOLO descargará 'yolov8s.pt' si no existe)",
    "model = YOLO(MODEL_NAME)",
    "\n",
    "# Iniciar el entrenamiento",
    "results = model.train(",
    "    # --- Rutas y Datos ---",
    "    data=DATASET_YAML_PATH,",
    "    project=os.path.join(DRIVE_PROJECT_PATH, 'training_results'), # Guarda los resultados en Drive",
    "    name=RUN_NAME,",
    "    ",
    "    # --- Parámetros de Entrenamiento ---",
    "    epochs=EPOCHS,",
    "    resume=True,  # <-- ¡LA CLAVE! Reanuda el entrenamiento si encuentra un checkpoint",
    "    ",
    "    # --- Parámetros de Rendimiento ---",
    "    batch=BATCH_SIZE,",
    "    imgsz=IMG_SIZE,",
    "    workers=WORKERS,",
    "    ",
    "    # --- Opcionales ---",
    "    save_json=True,",
    "    save_hybrid=True,",
    "    plots=True",
    ")",
    "\n",
    "print('--- ENTRENAMIENTO FINALIZADO ---')",
    "print(f'Resultados guardados en: {results.save_dir}')"
   ]
  },
  {
   "cell_type": "markdown",
   "metadata": {},
   "source": [
    "### 5. Evaluar el Modelo Final\n",
    "\n",
    "Una vez finalizado el entrenamiento completo, puedes ejecutar esta celda para ver las métricas de validación del mejor modelo."
   ]
  },
  {
   "cell_type": "code",
   "execution_count": null,
   "metadata": {},
   "outputs": [],
   "source": [
    "# Cargar el mejor modelo guardado durante el entrenamiento",
    "best_model_path = os.path.join(DRIVE_PROJECT_PATH, 'training_results', RUN_NAME, 'weights', 'best.pt')",
    "model = YOLO(MODEL_NAME)",
    "\n",
    "# Evaluar en el conjunto de validación",
    "metrics = model.val()",
    "\n",
    "print('--- MÉTRICAS DE VALIDACIÓN ---')",
    "print(f'mAP50-95: {metrics.box.map:.4f}')",
    "print(f'   mAP50: {metrics.box.map50:.4f}')",
    "print(f'   mAP75: {metrics.box.map75:.4f}')"
   ]
  }
 ],
 "metadata": {
  "kernelspec": {
   "display_name": "Python 3",
   "name": "python3"
  },
  "language_info": {
   "name": "python",
   "version": "3.10.12"
  }
 },
 "nbformat": 4,
 "nbformat_minor": 2
}