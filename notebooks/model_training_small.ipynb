{
 "cells": [
  {
   "cell_type": "markdown",
   "metadata": {},
   "source": [
    "# Entrenamiento de YOLOv8-Small en Google Colab\n",
    "\n",
    "Este notebook está adaptado para entrenar el modelo **YOLOv8s (small)**, guardando los resultados en Google Drive y con capacidad de reanudar el entrenamiento si la sesión se interrumpe."
   ]
  },
  {
   "cell_type": "markdown",
   "metadata": {},
   "source": [
    "### 1. Montar Google Drive\n",
    "\n",
    "Conecta el notebook a tu Google Drive. Aquí es donde leeremos el dataset y guardaremos los resultados y checkpoints."
   ]
  },
  {
   "cell_type": "code",
   "execution_count": null,
   "metadata": {},
   "outputs": [],
   "source": [
    "from google.colab import drive\n",
    "drive.mount('/content/drive')"
   ]
  },
  {
   "cell_type": "markdown",
   "metadata": {},
   "source": [
    "### 2. Instalar Librerías\n",
    "\n",
    "Instalamos `ultralytics` para YOLOv8."
   ]
  },
  {
   "cell_type": "code",
   "execution_count": null,
   "metadata": {},
   "outputs": [],
   "source": [
    "!pip install ultralytics"
   ]
  },
  {
   "cell_type": "markdown",
   "metadata": {},
   "source": [
    "### 3. Configuración del Entrenamiento\n",
    "\n",
    "**ACCIÓN REQUERIDA:** Ajusta las rutas y parámetros en la siguiente celda según tu configuración."
   ]
  },
  {
   "cell_type": "code",
   "execution_count": null,
   "metadata": {},
   "outputs": [],
   "source": [
    "import os\n",
    "from ultralytics import YOLO\n",
    "\n",
    "# --- PARÁMETROS DE CONFIGURACIÓN ---",
    "\n",
    "# Asegurarse de que CUDA_VISIBLE_DEVICES esté configurado para usar la primera GPU\n",
    "os.environ['CUDA_VISIBLE_DEVICES'] = '0'",
    "\n",
    "# Ruta base en tu Google Drive donde tienes el proyecto\n",
    "# DEBES AJUSTAR ESTA RUTA a donde hayas guardado tu dataset\n",
    "DRIVE_PROJECT_PATH = '/content/drive/MyDrive/Colab Notebooks/mod03-projects/project-xii-computer-vision' # Asegúrate de que esta ruta sea correcta\n",
    "\n",
    "# --- Configuración del Dataset Comprimido ---",
    "# Nombre del archivo .tar.gz del dataset reducido (debe estar en la misma carpeta que DRIVE_PROJECT_PATH)",
    "COMPRESSED_DATASET_NAME = 'dataset_v1_yolov8_reduced.tar.gz'",
    