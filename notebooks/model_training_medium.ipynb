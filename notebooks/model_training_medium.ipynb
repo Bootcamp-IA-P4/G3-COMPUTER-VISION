{
 "cells": [
  {
   "cell_type": "markdown",
   "metadata": {},
   "source": [
    "# Entrenamiento de YOLOv8 en Google Colab\n",
    "\n",
    "Este notebook está adaptado para entrenar un modelo YOLOv8, guardando los resultados en Google Drive y con capacidad de reanudar el entrenamiento si la sesión se interrumpe."
   ]
  },
  {
   "cell_type": "markdown",
   "metadata": {},
   "source": [
    "### 1. Montar Google Drive\n",
    "\n",
    "Conecta el notebook a tu Google Drive. Aquí es donde leeremos el dataset y guardaremos los resultados y checkpoints."
   ]
  },
  {
   "cell_type": "code",
   "execution_count": null,
   "metadata": {},
   "outputs": [],
   "source": [
    "from google.colab import drive\n",
    "drive.mount('/content/drive')"
   ]
  },
  {
   "cell_type": "markdown",
   "metadata": {},
   "source": [
    "### 2. Instalar Librerías\n",
    "\n",
    "Instalamos `ultralytics` para YOLOv8."
   ]
  },
  {
   "cell_type": "code",
   "execution_count": null,
   "metadata": {},
   "outputs": [],
   "source": [
    "!pip install ultralytics"
   ]
  },
  {
   "cell_type": "markdown",
   "metadata": {},
   "source": [
    "### 3. Configuración del Entrenamiento\n",
    "\n",
    "**ACCIÓN REQUERIDA:** Ajusta las rutas y parámetros en la siguiente celda según tu configuración."
   ]
  },
  {
   "cell_type": "code",
   "execution_count": null,
   "metadata": {},
   "outputs": [],
   "source": [
    "import os\n",
    "from ultralytics import YOLO\n",
    "\n",
    "# --- PARÁMETROS DE CONFIGURACIÓN ---",
    "\n",
    "# Asegurarse de que CUDA_VISIBLE_DEVICES esté configurado para usar la primera GPU\n",
    "os.environ['CUDA_VISIBLE_DEVICES'] = '0'\n",
    "\n",
    "# Ruta base en tu Google Drive donde tienes el proyecto\n",
    "# DEBES AJUSTAR ESTA RUTA a donde hayas guardado tu dataset\n",
    "DRIVE_PROJECT_PATH = '/content/drive/MyDrive/Colab Notebooks/mod03-projects/project-xii-computer-vision' # Asegúrate de que esta ruta sea correcta\n",
    "\n",
    "# --- Configuración del Dataset Comprimido ---",
    "# Nombre del archivo .tar.gz del dataset reducido (debe estar en la misma carpeta que DRIVE_PROJECT_PATH)\n",
    "COMPRESSED_DATASET_NAME = 'dataset_v1_yolov8_reduced.tar.gz'\n",
    "COMPRESSED_DATASET_PATH = os.path.join(DRIVE_PROJECT_PATH, COMPRESSED_DATASET_NAME)\n",
    "\n",
    "# Directorio donde se descomprimirá el dataset dentro de Drive (persistente)\n",
    "DECOMPRESSION_TARGET_DIR = DRIVE_PROJECT_PATH # Descomprimir directamente en la raíz del proyecto en Drive\n",
    "# Ruta a la carpeta del dataset una vez descomprimido\n",
    "DATASET_EXTRACTED_PATH = os.path.join(DECOMPRESSION_TARGET_DIR, 'dataset_v1_yolov8_reduced')\n",
    "\n",
    "# Ruta al archivo YAML del dataset (APUNTANDO A LA VERSIÓN DESCOMPRIMIDA)\n",
    "DATASET_YAML_PATH = os.path.join(DATASET_EXTRACTED_PATH, 'data.yaml')\n",
    "\n",
    "# Modelo, epochs y nombre del run\n",
    "MODEL_NAME = 'yolov8m.pt'\n",
    "EPOCHS = 80\n",
    "RUN_NAME = 'yolov8m_colab_80_epochs'\n",
    "\n",
    "# Parámetros de rendimiento para Colab\n",
    "BATCH_SIZE = 8\n",
    "IMG_SIZE = 640\n",
    "WORKERS = 4\n",
    "\n",
    "# --- FIN DE LA CONFIGURACIÓN ---",
    "\n",
    "# Asegurarse de que la carpeta de resultados exista en Drive\n",
    "os.makedirs(os.path.join(DRIVE_PROJECT_PATH, 'training_results'), exist_ok=True)\n",
    "\n",
    "# --- Descompresión del Dataset ---",
    "print(f\"Descomprimiendo {COMPRESSED_DATASET_NAME} a {DECOMPRESSION_TARGET_DIR}...\")\n",
    "os.makedirs(DECOMPRESSION_TARGET_DIR, exist_ok=True) # Asegurarse de que la carpeta de destino exista\n",
    "!tar -xzf {COMPRESSED_DATASET_PATH} -C {DECOMPRESSION_TARGET_DIR}\n",
    "print(\"Descompresión completada.\")"
   ]
  },
  {
   "cell_type": "markdown",
   "metadata": {},
   "source": [
    "### 4. Entrenar el Modelo\n",
    "\n",
    "Esta celda inicia o reanuda el entrenamiento. Gracias a `resume=True`, si el script se detiene, puedes volver a ejecutar esta celda y continuará donde lo dejó."
   ]
  },
  {
   "cell_type": "code",
   "execution_count": null,
   "metadata": {},
   "outputs": [],
   "source": [
    "# Cargar el modelo base (YOLO descargará 'yolov8m.pt' si no existe)\n",
    "model = YOLO(MODEL_NAME)\n",
    "\n",
    "# Iniciar el entrenamiento\n",
    "results = model.train(\n",
    "    # --- Rutas y Datos ---\n",
    "    data=DATASET_YAML_PATH,\n",
    "    project=os.path.join(DRIVE_PROJECT_PATH, 'training_results'), # Guarda los resultados en Drive\n",
    "    name=RUN_NAME,\n",
    "    \n",
    "    # --- Parámetros de Entrenamiento ---",
    "    epochs=EPOCHS,\n",
    "    resume=True,  # <-- ¡LA CLAVE! Reanuda el entrenamiento si encuentra un checkpoint\n",
    "    \n",
    "    # --- Parámetros de Rendimiento ---",
    "    batch=BATCH_SIZE,\n",
    "    imgsz=IMG_SIZE,\n",
    "    workers=WORKERS,\n",
    "    \n",
    "    # --- Opcionales ---",
    "    save_json=True,\n",
    "    save_hybrid=True,\n",
    "    plots=True,\n",
    "    device='0' # Forzar el uso de la GPU 0\n",
    ")\n",
    "\n",
    "print('--- ENTRENAMIENTO FINALIZADO ---')\n",
    "print(f'Resultados guardados en: {results.save_dir}')"
   ]
  },
  {
   "cell_type": "markdown",
   "metadata": {},
   "source": [
    "### 5. Evaluar el Modelo Final\n",
    "\n",
    "Una vez finalizado el entrenamiento completo, puedes ejecutar esta celda para ver las métricas de validación del mejor modelo."
   ]
  },
  {
   "cell_type": "code",
   "execution_count": null,
   "metadata": {},
   "outputs": [],
   "source": [
    "# Cargar el mejor modelo guardado durante el entrenamiento\n",
    "best_model_path = os.path.join(DRIVE_PROJECT_PATH, 'training_results', RUN_NAME, 'weights', 'best.pt')\n",
    "model = YOLO(MODEL_NAME)\n",
    "\n",
    "# Evaluar en el conjunto de validación\n",
    "metrics = model.val(project=os.path.join(DRIVE_PROJECT_PATH, 'training_results'), name=f'{RUN_NAME}_val')\n",
    "\n",
    "print('--- MÉTRICAS DE VALIDACIÓN ---')\n",
    "print(f'mAP50-95: {metrics.box.map:.4f}')\n",
    "print(f'   mAP50: {metrics.box.map50:.4f}')\n",
    "print(f'   mAP75: {metrics.box.map75:.4f}')"
   ]
  }
 ],
 "metadata": {
  "kernelspec": {
   "display_name": "Python 3",
   "name": "python3"
  },
  "language_info": {
   "name": "python",
   "version": "3.10.12"
  }
 },
 "nbformat": 4,
 "nbformat_minor": 2
}