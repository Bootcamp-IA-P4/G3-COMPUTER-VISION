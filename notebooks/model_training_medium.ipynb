{
 "cells": [
  {
   "cell_type": "markdown",
   "metadata": {},
   "source": [
    "# Entrenamiento de YOLOv8 en Google Colab\n",
    "\n",
    "Este notebook está adaptado para entrenar un modelo YOLOv8, guardando los resultados en Google Drive y con capacidad de reanudar el entrenamiento si la sesión se interrumpe."
   ]
  },
  {
   "cell_type": "markdown",
   "metadata": {},
   "source": [
    "### 1. Montar Google Drive\n",
    "\n",
    "Conecta el notebook a tu Google Drive. Aquí es donde leeremos el dataset y guardaremos los resultados y checkpoints."
   ]
  },
  {
   "cell_type": "code",
   "execution_count": null,
   "metadata": {},
   "outputs": [],
   "source": [
    "from google.colab import drive\n",
    "drive.mount('/content/drive')"
   ]
  },
  {
   "cell_type": "markdown",
   "metadata": {},
   "source": [
    "### 2. Instalar Librerías\n",
    "\n",
    "Instalamos `ultralytics` para YOLOv8."
   ]
  },
  {
   "cell_type": "code",
   "execution_count": null,
   "metadata": {},
   "outputs": [],
   "source": [
    "!pip install ultralytics"
   ]
  },
  {
   "cell_type": "markdown",
   "metadata": {},
   "source": [
    "### 3. Configuración del Entrenamiento\n",
    "\n",
    "**ACCIÓN REQUERIDA:** Ajusta las rutas y parámetros en la siguiente celda según tu configuración."
   ]
  },
  {
   "cell_type": "code",
   "execution_count": null,
   "metadata": {},
   "outputs": [],
   "source": [
    "import os\n",
    "from ultralytics import YOLO\n",
    "\n",
    "# --- PARÁMETROS DE CONFIGURACIÓN ---\n",
    "\n",
    "# Ruta base en tu Google Drive donde tienes el proyecto\n",
    "# DEBES AJUSTAR ESTA RUTA a donde hayas guardado tu dataset\n",
    "# Ruta para la carpeta de mi Drive\"\n",
    "DRIVE_PROJECT_PATH = '/content/drive/MyDrive/Colab Notebooks/mod03-projects/project-xii-computer-vision'\n",
    "\n",
    "# Ruta al archivo YAML del dataset (dentro de la carpeta del proyecto en Drive)\n",
    "DATASET_YAML_PATH = os.path.join(DRIVE_PROJECT_PATH, 'dataset_v1_yolov8m_reduced/data.yaml')\n",
    "\n",
    "# Modelo, epochs y nombre del run\n",
    "MODEL_NAME = 'yolov8m.pt'\n",
    "EPOCHS = 80\n",
    "RUN_NAME = 'yolov8m_colab_80_epochs'\n",
    "\n",
    "# Parámetros de rendimiento para Colab\n",
    "BATCH_SIZE = 8\n",
    "IMG_SIZE = 640\n",
    "WORKERS = 2\n",
    "\n",
    "# --- FIN DE LA CONFIGURACIÓN ---"
   ]
  },
  {
   "cell_type": "markdown",
   "metadata": {},
   "source": [
    "### 4. Entrenar el Modelo\n",
    "\n",
    "Esta celda inicia o reanuda el entrenamiento. Gracias a `resume=True`, si el script se detiene, puedes volver a ejecutar esta celda y continuará donde lo dejó."
   ]
  },
  {
   "cell_type": "code",
   "execution_count": null,
   "metadata": {},
   "outputs": [],
   "source": [
    "# Cargar el modelo base (YOLO descargará 'yolov8m.pt' si no existe)\n",
    "model = YOLO(MODEL_NAME)\n",
    "\n",
    "# Iniciar el entrenamiento\n",
    "results = model.train(\n",
    "    # --- Rutas y Datos ---\n",
    "    data=DATASET_YAML_PATH,\n",
    "    project=os.path.join(DRIVE_PROJECT_PATH, 'training_results'), # Guarda los resultados en Drive\n",
    "    name=RUN_NAME,\n",
    "    \n",
    "    # --- Parámetros de Entrenamiento ---\n",
    "    epochs=EPOCHS,\n",
    "    resume=True,  # <-- ¡LA CLAVE! Reanuda el entrenamiento si encuentra un checkpoint\n",
    "    \n",
    "    # --- Parámetros de Rendimiento ---\n",
    "    batch=BATCH_SIZE,\n",
    "    imgsz=IMG_SIZE,\n",
    "    workers=WORKERS,\n",
    "    \n",
    "    # --- Opcionales ---\n",
    "    save_json=True,\n",
    "    save_hybrid=True,\n",
    "    plots=True\n",
    ")\n",
    "\n",
    "print('\\n--- ENTRENAMIENTO FINALIZADO ---\\n')\n",
    "print(f'Resultados guardados en: {results.save_dir}')"
   ]
  },
  {
   "cell_type": "markdown",
   "metadata": {},
   "source": [
    "### 5. Evaluar el Modelo Final\n",
    "\n",
    "Una vez finalizado el entrenamiento completo, puedes ejecutar esta celda para ver las métricas de validación del mejor modelo."
   ]
  },
  {
   "cell_type": "code",
   "execution_count": null,
   "metadata": {},
   "outputs": [],
   "source": [
    "# Cargar el mejor modelo guardado durante el entrenamiento\n",
    "best_model_path = os.path.join(DRIVE_PROJECT_PATH, 'training_results', RUN_NAME, 'weights', 'best.pt')\n",
    "model = YOLO(best_model_path)\n",
    "\n",
    "# Evaluar en el conjunto de validación\n",
    "metrics = model.val()\n",
    "\n",
    "print('\\n--- MÉTRICAS DE VALIDACIÓN ---\\n')\n",
    "print(f'mAP50-95: {metrics.box.map:.4f}')\n",
    "print(f'   mAP50: {metrics.box.map50:.4f}')\n",
    "print(f'   mAP75: {metrics.box.map75:.4f}')"
   ]
  }
 ],
 "metadata": {
  "kernelspec": {
   "display_name": "Python 3",
   "name": "python3"
  },
  "language_info": {
   "name": "python",
   "version": "3.10.12"
  }
 },
 "nbformat": 4,
 "nbformat_minor": 2
}
