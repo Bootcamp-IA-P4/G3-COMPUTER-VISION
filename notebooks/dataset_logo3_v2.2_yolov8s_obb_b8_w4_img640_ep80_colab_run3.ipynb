{
 "cells": [
  {
   "cell_type": "markdown",
   "metadata": {
    "id": "f74PBt3XnEP7"
   },
   "source": [
    "# Entrenamiento de Emergencia YOLOv8s en Google Colab\n",
    "\n",
    "Este notebook está configurado con parámetros conservadores para asegurar la finalización del entrenamiento en un entorno con recursos limitados y un plazo ajustado."
   ]
  },
  {
   "cell_type": "code",
   "execution_count": null,
   "metadata": {
    "id": "2z99iL3-yBwC"
   },
   "outputs": [],
   "source": [
    "from google.colab import drive\n",
    "drive.mount('/content/drive')\n",
    "\n",
    "!pip install ultralytics"
   ]
  },
  {
   "cell_type": "code",
   "execution_count": null,
   "metadata": {
    "id": "1de8e303-8acf-4565-e7a4-9e2964dfd4ae"
   },
   "outputs": [],
   "source": [
    "import os\n",
    "import tarfile\n",
    "from ultralytics import YOLO\n",
    "\n",
    "# --- PARÁMETROS DE CONFIGURACIÓN DE EMERGENCIA ---\n",
    "os.environ['CUDA_VISIBLE_DEVICES'] = '0'\n",
    "DRIVE_PROJECT_PATH = '/content/drive/MyDrive/Colab Notebooks/mod03-projects/project-xii-computer-vision'\n",
    "\n",
    "# --- Dataset (Comprimido) ---\n",
    "COMPRESSED_DATASET_NAME = 'dataset_v2_yolov8_obb.tar.gz'\n",
    "COMPRESSED_DATASET_PATH = os.path.join(DRIVE_PROJECT_PATH, COMPRESSED_DATASET_NAME)\n",
    "DATASET_BASE_PATH = '/content/dataset_v2_yolov8_obb'\n",
    "DATASET_YAML_PATH = os.path.join(DATASET_BASE_PATH, 'data.yaml')\n",
    "\n",
    "# --- Lógica de Descompresión ---\n",
    "if not os.path.exists(DATASET_BASE_PATH):\n",
    "    print(f\"Dataset no encontrado en {DATASET_BASE_PATH}. Descomprimiendo...\")\n",
    "    if not os.path.exists(COMPRESSED_DATASET_PATH):\n",
    "        raise FileNotFoundError(f\"El archivo {COMPRESSED_DATASET_PATH} no existe.\")\n",
    "    with tarfile.open(COMPRESSED_DATASET_PATH, 'r:gz') as tar_ref:\n",
    "        tar_ref.extractall('/content/')\n",
    "    print(\"Descompresión completada.\")\n",
    "else:\n",
    "    print(f\"Dataset ya encontrado en {DATASET_BASE_PATH}.\")\n",
    "\n",
    "# --- Configuración del Modelo y Entrenamiento ---\n",
    "MODEL_NAME = 'yolov8s.pt'\n",
    "EPOCHS = 80\n",
    "RUN_NAME = 'yolov8s_obb_b8_w4_img640_ep80_colab_run_3'\n",
    "BATCH_SIZE = 8\n",
    "IMG_SIZE = 640\n",
    "WORKERS = 4\n",
    "PATIENCE = 20\n",
    "CACHE = False\n",
    "OPTIMIZER = 'AdamW'\n",
    "COS_LR = True\n",
    "\n",
    "print('--- CONFIGURACIÓN DE ENTRENAMIENTO ---')\n",
    "print(f'Modelo: {MODEL_NAME}')\n",
    "print(f'Epochs: {EPOCHS}')\n",
    "print(f'Batch Size: {BATCH_SIZE}')\n",
    "print(f'Image Size: {IMG_SIZE}')\n",
    "print('----------------------------------------')\n",
    "print('--- COMPROBACIONES DE DATASET, YAML Y MODELO ---')      \n",
    "print(f\"Dataset listo para usar en: {DATASET_BASE_PATH}\")\n",
    "print(f\"Archivo YAML: {DATASET_YAML_PATH}\")\n",
    "print(f\"Modelo base: {MODEL_NAME}\")\n",
    "print('----------------------------------------')\n",
    "\n",
    "# Cargar el modelo\n",
    "model = YOLO(MODEL_NAME)\n",
    "\n",
    "# Entrenar\n",
    "results = model.train(\n",
    "    data=DATASET_YAML_PATH,\n",
    "    project=os.path.join(DRIVE_PROJECT_PATH, 'training_results'),\n",
    "    name=RUN_NAME,\n",
    "    epochs=EPOCHS,\n",
    "    patience=PATIENCE,\n",
    "    batch=BATCH_SIZE,\n",
    "    imgsz=IMG_SIZE,\n",
    "    workers=WORKERS,\n",
    "    cache=CACHE,\n",
    "    optimizer=OPTIMIZER,\n",
    "    cos_lr=COS_LR,\n",
    "    device='0',\n",
    "    plots=True,\n",
    "    save_json=True\n",
    ")\n",
    "\n",
    "print('--- ENTRENAMIENTO FINALIZADO ---')\n",
    "print(f'Resultados guardados en: {results.save_dir}')"
   ]
  },
  {
   "cell_type": "code",
   "execution_count": null,
   "metadata": {},
   "outputs": [],
   "source": [
    "# Cargar el mejor modelo guardado durante el entrenamiento\n",
    "best_model_path = os.path.join(DRIVE_PROJECT_PATH, 'training_results', RUN_NAME, 'weights', 'best.pt')\n",
    "model = YOLO(MODEL_NAME)\n",
    "\n",
    "# Evaluar en el conjunto de validación\n",
    "metrics = model.val()\n",
    "\n",
    "print('--- MÉTRICAS DE VALIDACIÓN ---')\n",
    "print(f'mAP50-95: {metrics.box.map:.4f}')\n",
    "print(f'   mAP50: {metrics.box.map50:.4f}')\n",
    "print(f'   mAP75: {metrics.box.map75:.4f}')"
   ]
  }
 ],
 "metadata": {
  "colab": {
   "provenance": []
  },
  "kernelspec": {
   "display_name": "Python 3",
   "name": "python3"
  },
  "language_info": {
   "name": "python"
  }
 },
 "nbformat": 4,
 "nbformat_minor": 0
}
