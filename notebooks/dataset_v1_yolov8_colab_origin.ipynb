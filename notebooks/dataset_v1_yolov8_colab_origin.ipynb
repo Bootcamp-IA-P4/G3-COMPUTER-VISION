{
 "cells": [
  {
   "cell_type": "markdown",
   "metadata": {},
   "source": [
    "# Entrenamiento de YOLOv8 en Google Colab (Dataset Pre-descomprimido)\n",
    "\n",
    "Este notebook está adaptado para entrenar un modelo YOLOv8, asumiendo que el dataset ya está descomprimido en Google Drive. Guarda los resultados en Google Drive y tiene capacidad de reanudar el entrenamiento si la sesión se interrumpe."
   ]
  },
  {
   "cell_type": "markdown",
   "metadata": {},
   "source": [
    "### 1. Montar Google Drive\n",
    "\n",
    "Conecta el notebook a tu Google Drive. Aquí es donde leeremos el dataset y guardaremos los resultados y checkpoints."
   ]
  },
  {
   "cell_type": "code",
   "execution_count": null,
   "metadata": {},
   "outputs": [],
   "source": [
    "from google.colab import drive\n",
    "drive.mount('/content/drive')"
   ]
  },
  {
   "cell_type": "markdown",
   "metadata": {},
   "source": [
    "### 2. Instalar Librerías\n",
    "\n",
    "Instalamos `ultralytics` para YOLOv8."
   ]
  },
  {
   "cell_type": "code",
   "execution_count": null,
   "metadata": {},
   "outputs": [],
   "source": [
    "!pip install ultralytics"
   ]
  },
  {
   "cell_type": "markdown",
   "metadata": {},
   "source": [
    "### 3. Configuración del Entrenamiento\n",
    "\n",
    "**ACCIÓN REQUERIDA:** Ajusta las rutas y parámetros en la siguiente celda según tu configuración."
   ]
  },
  {
   "cell_type": "code",
   "execution_count": null,
   "metadata": {},
   "outputs": [],
   "source": [
    "import os\n",
    "from ultralytics import YOLO\n",
    "\n",
    "# --- PARÁMETROS DE CONFIGURACIÓN ---",
    "\n",
    "# Asegurarse de que CUDA_VISIBLE_DEVICES esté configurado para usar la primera GPU\n",
    "os.environ['CUDA_VISIBLE_DEVICES'] = '0'",
    "\n",
    "# Ruta base en tu Google Drive donde tienes el proyecto\n",
    "# DEBES AJUSTAR ESTA RUTA a donde hayas guardado tu dataset\n",
    "DRIVE_PROJECT_PATH = '/content/drive/MyDrive/Colab Notebooks/mod03-projects/project-xii-computer-vision' # Asegúrate de que esta ruta sea correcta\n",
    "\n",
    "# --- Configuración del Dataset (ya descomprimido) ---",
    "# Ruta a la carpeta del dataset ya descomprimido en Drive\n",
    "DATASET_BASE_PATH = os.path.join(DRIVE_PROJECT_PATH, 'dataset_v1_yolov8_reduced')\n",
    "\n",
    "# Ruta al archivo YAML del dataset\n",
    "DATASET_YAML_PATH = os.path.join(DATASET_BASE_PATH, 'data.yaml')\n",
    "\n",
    "# Modelo, epochs y nombre del run\n",
    "MODEL_NAME = 'yolov8m.pt'",
    "EPOCHS = 80",
    "RUN_NAME = 'yolov8m_colab_80_epochs_pre_decompressed'",
    "\n",
    "# Parámetros de rendimiento para Colab\n",
    "BATCH_SIZE = 8",
    "IMG_SIZE = 640",
    "WORKERS = 4",
    "\n",
    "# --- FIN DE LA CONFIGURACIÓN ---",
    "\n",
    "# Asegurarse de que la carpeta de resultados exista en Drive\n",
    "os.makedirs(os.path.join(DRIVE_PROJECT_PATH, 'training_results'), exist_ok=True)",
    "\n",
    "# --- Verificación del Dataset ---",
    "if not os.path.exists(DATASET_YAML_PATH):",
    "    print(f\"ERROR: El archivo data.yaml no se encontró en {DATASET_YAML_PATH}. Asegúrate de que el dataset esté descomprimido en la ruta correcta.\")",
    "else:",
    "    print(f\"Dataset listo en: {DATASET_BASE_PATH}\")"
   ]
  },
  {
   "cell_type": "markdown",
   "metadata": {},
   "source": [
    "### 4. Entrenar el Modelo\n",
    "\n",
    "Esta celda inicia o reanuda el entrenamiento. Gracias a `resume=True`, si el script se detiene, puedes volver a ejecutar esta celda y continuará donde lo dejó."
   ]
  },
  {
   "cell_type": "code",
   "execution_count": null,
   "metadata": {},
   "outputs": [],
   "source": [
    "# Cargar el modelo base (YOLO descargará 'yolov8m.pt' si no existe)",
    "model = YOLO(MODEL_NAME)",
    "\n",
    "# Iniciar el entrenamiento",
    "results = model.train(",
    "    # --- Rutas y Datos ---",
    "    data=DATASET_YAML_PATH,",
    "    project=os.path.join(DRIVE_PROJECT_PATH, 'training_results'), # Guarda los resultados en Drive",
    "    name=RUN_NAME,",
    "    ",
    "    # --- Parámetros de Entrenamiento ---",
    "    epochs=EPOCHS,",
    "    resume=True,  # <-- ¡LA CLAVE! Reanuda el entrenamiento si encuentra un checkpoint",
    "    ",
    "    # --- Parámetros de Rendimiento ---",
    "    batch=BATCH_SIZE,",
    "    imgsz=IMG_SIZE,",
    "    workers=WORKERS,",
    "    ",
    "    # --- Opcionales ---",
    "    save_json=True,",
    "    save_hybrid=True,",
    "    plots=True,",
    "    device='0' # Forzar el uso de la GPU 0",
    ")",
    "\n",
    "print('--- ENTRENAMIENTO FINALIZADO ---')",
    "print(f'Resultados guardados en: {results.save_dir}')"
   ]
  },
  {
   "cell_type": "markdown",
   "metadata": {},
   "source": [
    "### 5. Evaluar el Modelo Final\n",
    "\n",
    "Una vez finalizado el entrenamiento completo, puedes ejecutar esta celda para ver las métricas de validación del mejor modelo."
   ]
  },
  {
   "cell_type": "code",
   "execution_count": null,
   "metadata": {},
   "outputs": [],
   "source": [
    "# Cargar el mejor modelo guardado durante el entrenamiento",
    "best_model_path = os.path.join(DRIVE_PROJECT_PATH, 'training_results', RUN_NAME, 'weights', 'best.pt')",
    "model = YOLO(MODEL_NAME)",
    "\n",
    "# Evaluar en el conjunto de validación",
    "metrics = model.val(project=os.path.join(DRIVE_PROJECT_PATH, 'training_results'), name=f'{RUN_NAME}_val')",
    "\n",
    "print('--- MÉTRICAS DE VALIDACIÓN ---')",
    "print(f'mAP50-95: {metrics.box.map:.4f}')",
    "print(f'   mAP50: {metrics.box.map50:.4f}')",
    "print(f'   mAP75: {metrics.box.map75:.4f}')"
   ]
  }
 ],
 "metadata": {
  "kernelspec": {
   "display_name": "Python 3",
   "name": "python3"
  },
  "language_info": {
   "name": "python",
   "version": "3.10.12"
  }
 },
 "nbformat": 4,
 "nbformat_minor": 2
}